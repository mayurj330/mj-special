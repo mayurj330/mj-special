{
 "cells": [
  {
   "cell_type": "code",
   "execution_count": 64,
   "metadata": {},
   "outputs": [],
   "source": [
    "from ipywidgets import interact,interactive,fixed\n",
    "import ipywidgets as widgets\n",
    "from IPython.display import display\n",
    "import pandas as pd\n",
    "from IPython.display import display, clear_output\n",
    "import numpy as np"
   ]
  },
  {
   "cell_type": "code",
   "execution_count": 106,
   "metadata": {},
   "outputs": [
    {
     "data": {
      "application/vnd.jupyter.widget-view+json": {
       "model_id": "576777e4e3a84edcb85f960badf89e55",
       "version_major": 2,
       "version_minor": 0
      },
      "text/plain": [
       "Button(description='Record', style=ButtonStyle())"
      ]
     },
     "metadata": {},
     "output_type": "display_data"
    },
    {
     "data": {
      "application/vnd.jupyter.widget-view+json": {
       "model_id": "236968f5201544c99a4f10bd6433a43b",
       "version_major": 2,
       "version_minor": 0
      },
      "text/plain": [
       "Button(description='ALL SUM', style=ButtonStyle())"
      ]
     },
     "metadata": {},
     "output_type": "display_data"
    },
    {
     "data": {
      "application/vnd.jupyter.widget-view+json": {
       "model_id": "bf56987da15e4e3da4db000c9f717e71",
       "version_major": 2,
       "version_minor": 0
      },
      "text/plain": [
       "Button(description='TIP SUM', style=ButtonStyle())"
      ]
     },
     "metadata": {},
     "output_type": "display_data"
    },
    {
     "name": "stdout",
     "output_type": "stream",
     "text": [
      "731.5799999999999\n",
      "total_bill    4827.77\n",
      "tip            731.58\n",
      "size           627.00\n",
      "dtype: float64\n",
      "     total_bill   tip     sex smoker   day    time  size\n",
      "0         16.99  1.01  Female     No   Sun  Dinner     2\n",
      "1         10.34  1.66    Male     No   Sun  Dinner     3\n",
      "2         21.01  3.50    Male     No   Sun  Dinner     3\n",
      "3         23.68  3.31    Male     No   Sun  Dinner     2\n",
      "4         24.59  3.61  Female     No   Sun  Dinner     4\n",
      "..          ...   ...     ...    ...   ...     ...   ...\n",
      "239       29.03  5.92    Male     No   Sat  Dinner     3\n",
      "240       27.18  2.00  Female    Yes   Sat  Dinner     2\n",
      "241       22.67  2.00    Male    Yes   Sat  Dinner     2\n",
      "242       17.82  1.75    Male     No   Sat  Dinner     2\n",
      "243       18.78  3.00  Female     No  Thur  Dinner     2\n",
      "\n",
      "[244 rows x 7 columns]\n"
     ]
    }
   ],
   "source": [
    "import seaborn as sns\n",
    "# data load\n",
    "tips= sns.load_dataset(\"tips\")\n",
    "\n",
    "#available data record display\n",
    "\n",
    "buttn= widgets.Button(description=\"Record\")\n",
    "display(buttn)\n",
    "\n",
    "def buttn_event_handler(obj):\n",
    "   \n",
    "    print(tips)\n",
    "\n",
    "buttn.on_click (buttn_event_handler)\n",
    "\n",
    "#total_bill,tip and size sum..\n",
    "butt= widgets.Button(description=\"ALL SUM\")\n",
    "display(butt)\n",
    "\n",
    "def butt_event_handler(obj):\n",
    "    sum = tips.sum(axis =0)\n",
    "    print(sum)\n",
    "\n",
    "butt.on_click (butt_event_handler)\n",
    "\n",
    "#total tip sum\n",
    "button1= widgets.Button(description=\"TIP SUM\")\n",
    "display(button1)\n",
    "\n",
    "def button1_event_handler(obj):\n",
    "    tip=tips.tip.sum()\n",
    "    print(tip)\n",
    "\n",
    "    \n",
    "button1.on_click (button1_event_handler)"
   ]
  },
  {
   "cell_type": "code",
   "execution_count": null,
   "metadata": {},
   "outputs": [],
   "source": [
    "elif but ==\"total_bill\":\n",
    "        total_bill=tips.total_bill.sum()    \n",
    "        print(\"total_bill\")\n",
    "elif but ==\"size\":\n",
    "        size=tips.size.sum()    \n",
    "        print(\"size\")"
   ]
  },
  {
   "cell_type": "code",
   "execution_count": null,
   "metadata": {},
   "outputs": [],
   "source": [
    "elif but ==\"total_bill\":\n",
    "        total_bill=tips.total_bill.sum()    \n",
    "        print(total_bill)\n",
    "elif but ==\"size\":\n",
    "        size=tips.size.sum()    \n",
    "        print(size)\n",
    "else:\n",
    "    print(\"Thanks\")"
   ]
  },
  {
   "cell_type": "code",
   "execution_count": null,
   "metadata": {},
   "outputs": [],
   "source": [
    "tip=tips.tip.sum()\n",
    "    print(tip)"
   ]
  }
 ],
 "metadata": {
  "kernelspec": {
   "display_name": "Python 3",
   "language": "python",
   "name": "python3"
  },
  "language_info": {
   "codemirror_mode": {
    "name": "ipython",
    "version": 3
   },
   "file_extension": ".py",
   "mimetype": "text/x-python",
   "name": "python",
   "nbconvert_exporter": "python",
   "pygments_lexer": "ipython3",
   "version": "3.8.5"
  }
 },
 "nbformat": 4,
 "nbformat_minor": 4
}
