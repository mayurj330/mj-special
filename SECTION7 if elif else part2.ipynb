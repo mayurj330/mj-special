{
 "cells": [
  {
   "cell_type": "code",
   "execution_count": 2,
   "metadata": {},
   "outputs": [
    {
     "name": "stdout",
     "output_type": "stream",
     "text": [
      "Are you tired? True or False.T\n",
      "get somw sleep\n"
     ]
    }
   ],
   "source": [
    "tired = input(\"Are you tired? True or False.\")\n",
    "if tired in(\"True\",\"true\",\"t\",\"T\"):\n",
    "    print(\"get somw sleep\")\n",
    "elif tired == \"ask letter\":\n",
    "    print(\"ok bye!\")\n",
    "else:\n",
    "    print(\"not get sleep\")"
   ]
  },
  {
   "cell_type": "code",
   "execution_count": 3,
   "metadata": {},
   "outputs": [
    {
     "name": "stdout",
     "output_type": "stream",
     "text": [
      "Are you tired? True or False.False\n",
      "not get sleep\n"
     ]
    }
   ],
   "source": [
    "tired = input(\"Are you tired? True or False.\")\n",
    "if tired in(\"True\",\"true\",\"t\",\"T\"):\n",
    "    print(\"get somw sleep\")\n",
    "elif tired == \"ask letter\":\n",
    "    print(\"ok bye!\")\n",
    "else:\n",
    "    print(\"not get sleep\")"
   ]
  },
  {
   "cell_type": "code",
   "execution_count": null,
   "metadata": {},
   "outputs": [],
   "source": [
    "tired = input(\"Are you tired? True,False  or ask leeter.\")\n",
    "if tired in(\"True\",\"true\",\"t\",\"T\"):\n",
    "    print(\"get somw sleep\")\n",
    "elif tired == \"ask letter\":\n",
    "    print(\"ok bye!\")\n",
    "else:\n",
    "    print(\"not get sleep\")"
   ]
  },
  {
   "cell_type": "code",
   "execution_count": null,
   "metadata": {},
   "outputs": [],
   "source": [
    "tired = input(\"Are you tired? True,False  or ask leeter.\")\n",
    "if tired in(\"True\",\"true\",\"t\",\"T\"):\n",
    "    print(\"get somw sleep\")\n",
    "elif tired == \"ask letter\":\n",
    "    print(\"ok bye!\")\n",
    "else:\n",
    "    print(\"not get sleep\")"
   ]
  },
  {
   "cell_type": "code",
   "execution_count": null,
   "metadata": {},
   "outputs": [],
   "source": []
  }
 ],
 "metadata": {
  "kernelspec": {
   "display_name": "Python 3",
   "language": "python",
   "name": "python3"
  },
  "language_info": {
   "codemirror_mode": {
    "name": "ipython",
    "version": 3
   },
   "file_extension": ".py",
   "mimetype": "text/x-python",
   "name": "python",
   "nbconvert_exporter": "python",
   "pygments_lexer": "ipython3",
   "version": "3.6.11"
  }
 },
 "nbformat": 4,
 "nbformat_minor": 2
}
