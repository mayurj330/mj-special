{
 "cells": [
  {
   "cell_type": "code",
   "execution_count": 23,
   "metadata": {},
   "outputs": [
    {
     "name": "stdout",
     "output_type": "stream",
     "text": [
      "req,noreq or repeatnoreq\n",
      "Ok\n"
     ]
    }
   ],
   "source": [
    "water = input (\"req,noreq or repeat\")\n",
    "\n",
    "if water in(\"req\"):\n",
    "    print(\"Take this\")\n",
    "elif water == \"repeat\":\n",
    "    print(\"Water\")\n",
    "if water in (\"noreq\"):\n",
    "    print (\"Ok\")\n",
    "else:\n",
    "    print (\"Thanks\")\n",
    "            "
   ]
  },
  {
   "cell_type": "code",
   "execution_count": 22,
   "metadata": {},
   "outputs": [
    {
     "name": "stdout",
     "output_type": "stream",
     "text": [
      "req,noreq or repeat.req\n",
      "Take this\n",
      "Ok\n"
     ]
    }
   ],
   "source": [
    "water = input (\"req,noreq or repeat.\")\n",
    "\n",
    "if water in(\"req\"):\n",
    "    print(\"Take this\")\n",
    "elif water == \"repeat\":\n",
    "    print(\"Water\")\n",
    "if water in(\"noreq\"):\n",
    "    print(\"Ok\")\n",
    "else:\n",
    "    print (\"Thanks\")\n",
    "            "
   ]
  },
  {
   "cell_type": "code",
   "execution_count": 24,
   "metadata": {},
   "outputs": [
    {
     "name": "stdout",
     "output_type": "stream",
     "text": [
      "req,noreq or repeatrepeat\n",
      "Water\n",
      "Thanks\n"
     ]
    }
   ],
   "source": [
    "water = input (\"req,noreq or repeat\")\n",
    "\n",
    "if water in(\"req\"):\n",
    "    print(\"Take this\")\n",
    "elif water == \"repeat\":\n",
    "    print(\"Water\")\n",
    "if water in (\"noreq\"):\n",
    "    print (\"Ok\")\n",
    "else:\n",
    "    print (\"Thanks\")\n",
    "            "
   ]
  },
  {
   "cell_type": "code",
   "execution_count": null,
   "metadata": {},
   "outputs": [],
   "source": []
  }
 ],
 "metadata": {
  "kernelspec": {
   "display_name": "Python 3",
   "language": "python",
   "name": "python3"
  }
 },
 "nbformat": 4,
 "nbformat_minor": 4
}
