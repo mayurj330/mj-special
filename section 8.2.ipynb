{
 "cells": [
  {
   "cell_type": "code",
   "execution_count": 9,
   "metadata": {
    "scrolled": true
   },
   "outputs": [
    {
     "name": "stdout",
     "output_type": "stream",
     "text": [
      "x is =0\n",
      "x is =1\n",
      "x is =2\n"
     ]
    }
   ],
   "source": [
    "x=0\n",
    "while x<3:\n",
    "    print(\"x is ={}\".format(x))\n",
    "    x =x+1"
   ]
  },
  {
   "cell_type": "code",
   "execution_count": 7,
   "metadata": {},
   "outputs": [
    {
     "name": "stdout",
     "output_type": "stream",
     "text": [
      "x is =1\n",
      "x is =2\n",
      "x is =3\n"
     ]
    }
   ],
   "source": [
    "x=0\n",
    "while x<3:\n",
    "    x =x+1\n",
    "    print(\"x is ={}\".format(x))\n",
    "    "
   ]
  },
  {
   "cell_type": "code",
   "execution_count": 15,
   "metadata": {},
   "outputs": [
    {
     "name": "stdout",
     "output_type": "stream",
     "text": [
      " X is :1\n",
      " X is :3\n",
      " X is :5\n",
      "X ends\n"
     ]
    }
   ],
   "source": [
    "x = 0\n",
    "while x<=5:\n",
    "    print(\" X is :{}\".format (x+1))\n",
    "    x+=2\n",
    "else:\n",
    "    print(\"X ends\")"
   ]
  },
  {
   "cell_type": "code",
   "execution_count": null,
   "metadata": {},
   "outputs": [],
   "source": []
  }
 ],
 "metadata": {
  "kernelspec": {
   "display_name": "Python 3",
   "language": "python",
   "name": "python3"
  },
  "language_info": {
   "codemirror_mode": {
    "name": "ipython",
    "version": 3
   },
   "file_extension": ".py",
   "mimetype": "text/x-python",
   "name": "python",
   "nbconvert_exporter": "python",
   "pygments_lexer": "ipython3",
   "version": "3.6.11"
  }
 },
 "nbformat": 4,
 "nbformat_minor": 2
}
