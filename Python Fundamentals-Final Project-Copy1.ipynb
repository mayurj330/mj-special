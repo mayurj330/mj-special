{
 "cells": [
  {
   "cell_type": "code",
   "execution_count": 3,
   "metadata": {},
   "outputs": [],
   "source": [
    "from ipywidgets import interact,interactive,fixed\n",
    "import ipywidgets as widgets\n",
    "from IPython.display import display\n",
    "import pandas as pd\n",
    "from IPython.display import display, clear_output\n",
    "import numpy as np"
   ]
  },
  {
   "cell_type": "code",
   "execution_count": 4,
   "metadata": {},
   "outputs": [
    {
     "data": {
      "application/vnd.jupyter.widget-view+json": {
       "model_id": "cf898b0bd16044d9af8a2825d326723a",
       "version_major": 2,
       "version_minor": 0
      },
      "text/plain": [
       "Button(description='Record', style=ButtonStyle())"
      ]
     },
     "metadata": {},
     "output_type": "display_data"
    },
    {
     "data": {
      "application/vnd.jupyter.widget-view+json": {
       "model_id": "e1afb567e5584b92848606f38e56999b",
       "version_major": 2,
       "version_minor": 0
      },
      "text/plain": [
       "Button(description='ALL SUM', style=ButtonStyle())"
      ]
     },
     "metadata": {},
     "output_type": "display_data"
    },
    {
     "data": {
      "application/vnd.jupyter.widget-view+json": {
       "model_id": "24c83f49dd814d86b6ccab9bedfa999d",
       "version_major": 2,
       "version_minor": 0
      },
      "text/plain": [
       "Button(description='TIP SUM', style=ButtonStyle())"
      ]
     },
     "metadata": {},
     "output_type": "display_data"
    }
   ],
   "source": [
    "import seaborn as sns\n",
    "# data load\n",
    "tips= sns.load_dataset(\"tips\")\n",
    "\n",
    "#available data record display\n",
    "\n",
    "buttn= widgets.Button(description=\"Record\")\n",
    "display(buttn)\n",
    "\n",
    "def buttn_event_handler(obj):\n",
    "   \n",
    "    print(tips)\n",
    "\n",
    "buttn.on_click (buttn_event_handler)\n",
    "\n",
    "#total_bill,tip and size sum..\n",
    "butt= widgets.Button(description=\"ALL SUM\")\n",
    "display(butt)\n",
    "\n",
    "def butt_event_handler(obj):\n",
    "    sum = tips.sum(axis =0)\n",
    "    print(sum)\n",
    "\n",
    "butt.on_click (butt_event_handler)\n",
    "\n",
    "#total tip sum\n",
    "button1= widgets.Button(description=\"TIP SUM\")\n",
    "display(button1)\n",
    "\n",
    "def button1_event_handler(obj):\n",
    "    tip=tips.tip.sum()\n",
    "    print(tip)\n",
    "\n",
    "    \n",
    "button1.on_click (button1_event_handler)"
   ]
  },
  {
   "cell_type": "code",
   "execution_count": 5,
   "metadata": {},
   "outputs": [
    {
     "ename": "SyntaxError",
     "evalue": "invalid syntax (<ipython-input-5-b3df64d14f2b>, line 1)",
     "output_type": "error",
     "traceback": [
      "\u001b[1;36m  File \u001b[1;32m\"<ipython-input-5-b3df64d14f2b>\"\u001b[1;36m, line \u001b[1;32m1\u001b[0m\n\u001b[1;33m    elif but ==\"total_bill\":\u001b[0m\n\u001b[1;37m    ^\u001b[0m\n\u001b[1;31mSyntaxError\u001b[0m\u001b[1;31m:\u001b[0m invalid syntax\n"
     ]
    }
   ],
   "source": [
    "elif but ==\"total_bill\":\n",
    "        total_bill=tips.total_bill.sum()    \n",
    "        print(\"total_bill\")\n",
    "elif but ==\"size\":\n",
    "        size=tips.size.sum()    \n",
    "        print(\"size\")"
   ]
  },
  {
   "cell_type": "code",
   "execution_count": 6,
   "metadata": {},
   "outputs": [
    {
     "ename": "SyntaxError",
     "evalue": "invalid syntax (<ipython-input-6-e93333dedf6f>, line 1)",
     "output_type": "error",
     "traceback": [
      "\u001b[1;36m  File \u001b[1;32m\"<ipython-input-6-e93333dedf6f>\"\u001b[1;36m, line \u001b[1;32m1\u001b[0m\n\u001b[1;33m    elif but ==\"total_bill\":\u001b[0m\n\u001b[1;37m    ^\u001b[0m\n\u001b[1;31mSyntaxError\u001b[0m\u001b[1;31m:\u001b[0m invalid syntax\n"
     ]
    }
   ],
   "source": [
    "elif but ==\"total_bill\":\n",
    "        total_bill=tips.total_bill.sum()    \n",
    "        print(total_bill)\n",
    "elif but ==\"size\":\n",
    "        size=tips.size.sum()    \n",
    "        print(size)\n",
    "else:\n",
    "    print(\"Thanks\")"
   ]
  },
  {
   "cell_type": "code",
   "execution_count": null,
   "metadata": {},
   "outputs": [],
   "source": [
    "tip=tips.tip.sum()\n",
    "    print(tip)"
   ]
  }
 ],
 "metadata": {
  "kernelspec": {
   "display_name": "Python 3",
   "language": "python",
   "name": "python3"
  },
  "language_info": {
   "codemirror_mode": {
    "name": "ipython",
    "version": 3
   },
   "file_extension": ".py",
   "mimetype": "text/x-python",
   "name": "python",
   "nbconvert_exporter": "python",
   "pygments_lexer": "ipython3",
   "version": "3.8.5"
  }
 },
 "nbformat": 4,
 "nbformat_minor": 4
}
