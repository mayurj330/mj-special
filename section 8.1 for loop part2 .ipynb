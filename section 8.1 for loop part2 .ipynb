{
 "cells": [
  {
   "cell_type": "code",
   "execution_count": 1,
   "metadata": {},
   "outputs": [],
   "source": [
    "fruits = [\"apple\",\"banana\",\"grape\",\"bang\"]"
   ]
  },
  {
   "cell_type": "code",
   "execution_count": 18,
   "metadata": {},
   "outputs": [
    {
     "name": "stdout",
     "output_type": "stream",
     "text": [
      "apple\n",
      "banana\n",
      "grape\n",
      "bang\n"
     ]
    }
   ],
   "source": [
    "for x in fruits:\n",
    "    print(x)\n",
    "    if x==\"bang\":\n",
    "        break"
   ]
  },
  {
   "cell_type": "code",
   "execution_count": 5,
   "metadata": {},
   "outputs": [
    {
     "name": "stdout",
     "output_type": "stream",
     "text": [
      "apple\n",
      "banana\n"
     ]
    }
   ],
   "source": [
    "for x in fruits:\n",
    "    print(x)\n",
    "    if x==\"banana\":\n",
    "        break"
   ]
  },
  {
   "cell_type": "code",
   "execution_count": 10,
   "metadata": {},
   "outputs": [
    {
     "name": "stdout",
     "output_type": "stream",
     "text": [
      "apple\n"
     ]
    }
   ],
   "source": [
    "for x in fruits:\n",
    "    if x==\"banana\":\n",
    "        break\n",
    "    print(x)"
   ]
  },
  {
   "cell_type": "code",
   "execution_count": 11,
   "metadata": {},
   "outputs": [
    {
     "name": "stdout",
     "output_type": "stream",
     "text": [
      "apple\n",
      "grape\n",
      "bang\n"
     ]
    }
   ],
   "source": [
    "for x in fruits:\n",
    "    if x==\"banana\":\n",
    "        continue\n",
    "    print(x)"
   ]
  },
  {
   "cell_type": "code",
   "execution_count": 17,
   "metadata": {},
   "outputs": [
    {
     "name": "stdout",
     "output_type": "stream",
     "text": [
      "2\n",
      "3\n",
      "4\n",
      "5\n",
      "6\n",
      "7\n",
      "8\n",
      "9\n",
      "finished counting!\n"
     ]
    }
   ],
   "source": [
    "for x in range(2,10):\n",
    "    print(x)\n",
    "else :\n",
    "    print(\"finished counting!\")"
   ]
  },
  {
   "cell_type": "code",
   "execution_count": 19,
   "metadata": {},
   "outputs": [
    {
     "name": "stdout",
     "output_type": "stream",
     "text": [
      "apple red\n",
      "apple yellow\n",
      "apple purple\n",
      "apple green\n",
      "banana red\n",
      "banana yellow\n",
      "banana purple\n",
      "banana green\n",
      "grape red\n",
      "grape yellow\n",
      "grape purple\n",
      "grape green\n",
      "bang red\n",
      "bang yellow\n",
      "bang purple\n",
      "bang green\n"
     ]
    }
   ],
   "source": [
    "descrip = [\"red\",\"yellow\",\"purple\",\"green\"]\n",
    "for x in fruits:\n",
    "    for y in descrip:\n",
    "        print(x,y)"
   ]
  },
  {
   "cell_type": "code",
   "execution_count": null,
   "metadata": {},
   "outputs": [],
   "source": []
  }
 ],
 "metadata": {
  "kernelspec": {
   "display_name": "Python 3",
   "language": "python",
   "name": "python3"
  },
  "language_info": {
   "codemirror_mode": {
    "name": "ipython",
    "version": 3
   },
   "file_extension": ".py",
   "mimetype": "text/x-python",
   "name": "python",
   "nbconvert_exporter": "python",
   "pygments_lexer": "ipython3",
   "version": "3.6.11"
  }
 },
 "nbformat": 4,
 "nbformat_minor": 4
}
