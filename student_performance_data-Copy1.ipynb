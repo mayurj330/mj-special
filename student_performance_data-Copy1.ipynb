{
 "cells": [
  {
   "cell_type": "code",
   "execution_count": 10,
   "metadata": {},
   "outputs": [],
   "source": [
    "import pandas as pd\n",
    "import numpy as np\n",
    "\n",
    "file =open(\"StudentsPerformance.csv\",\"r\")"
   ]
  },
  {
   "cell_type": "code",
   "execution_count": 16,
   "metadata": {},
   "outputs": [
    {
     "name": "stdout",
     "output_type": "stream",
     "text": [
      "     gender race/ethnicity parental level of education         lunch  \\\n",
      "0    female        group B           bachelor's degree      standard   \n",
      "1    female        group C                some college      standard   \n",
      "2    female        group B             master's degree      standard   \n",
      "3      male        group A          associate's degree  free/reduced   \n",
      "4      male        group C                some college      standard   \n",
      "..      ...            ...                         ...           ...   \n",
      "995  female        group E             master's degree      standard   \n",
      "996    male        group C                 high school  free/reduced   \n",
      "997  female        group C                 high school  free/reduced   \n",
      "998  female        group D                some college      standard   \n",
      "999  female        group D                some college  free/reduced   \n",
      "\n",
      "    test preparation course  math score  reading score  writing score  \n",
      "0                      none          72             72             74  \n",
      "1                 completed          69             90             88  \n",
      "2                      none          90             95             93  \n",
      "3                      none          47             57             44  \n",
      "4                      none          76             78             75  \n",
      "..                      ...         ...            ...            ...  \n",
      "995               completed          88             99             95  \n",
      "996                    none          62             55             55  \n",
      "997               completed          59             71             65  \n",
      "998               completed          68             78             77  \n",
      "999                    none          77             86             86  \n",
      "\n",
      "[1000 rows x 8 columns]\n"
     ]
    }
   ],
   "source": [
    "df = pd.read_csv('StudentsPerformance.csv')\n",
    "print(df)"
   ]
  },
  {
   "cell_type": "code",
   "execution_count": 32,
   "metadata": {},
   "outputs": [
    {
     "name": "stdout",
     "output_type": "stream",
     "text": [
      "race/ethnicity  parental level of education\n",
      "group A         associate's degree             14\n",
      "                bachelor's degree              12\n",
      "                high school                    18\n",
      "                master's degree                 3\n",
      "                some college                   18\n",
      "                some high school               24\n",
      "group B         associate's degree             41\n",
      "                bachelor's degree              20\n",
      "                high school                    48\n",
      "                master's degree                 6\n",
      "                some college                   37\n",
      "                some high school               38\n",
      "group C         associate's degree             78\n",
      "                bachelor's degree              40\n",
      "                high school                    64\n",
      "                master's degree                19\n",
      "                some college                   69\n",
      "                some high school               49\n",
      "group D         associate's degree             50\n",
      "                bachelor's degree              28\n",
      "                high school                    44\n",
      "                master's degree                23\n",
      "                some college                   67\n",
      "                some high school               50\n",
      "group E         associate's degree             39\n",
      "                bachelor's degree              18\n",
      "                high school                    22\n",
      "                master's degree                 8\n",
      "                some college                   35\n",
      "                some high school               18\n",
      "Name: parental level of education, dtype: int64\n"
     ]
    }
   ],
   "source": [
    "df1 = df.groupby([\"race/ethnicity\",\"parental level of education\"])[\"parental level of education\"].count()\n",
    "print (df1)"
   ]
  },
  {
   "cell_type": "code",
   "execution_count": 132,
   "metadata": {},
   "outputs": [],
   "source": [
    "df[\"total_score\"] = df[\"math score\"]+df[\"reading score\"]+df[\"writing score\"]\n",
    "df2 = df.groupby([\"test preparation course\",\"total_score\",\"gender\"])[\"total_score\"].count()\n",
    "df3 =df.groupby([\"test preparation course\",\"total_score\",\"gender\"])[\"total_score\"].median()\n",
    " "
   ]
  },
  {
   "cell_type": "code",
   "execution_count": 133,
   "metadata": {},
   "outputs": [
    {
     "data": {
      "text/plain": [
       "test preparation course  total_score  gender\n",
       "completed                103          female    103\n",
       "                         113          female    113\n",
       "                         119          male      119\n",
       "                         123          female    123\n",
       "                         127          female    127\n",
       "                                               ... \n",
       "none                     289          female    289\n",
       "                         290          female    290\n",
       "                         292          female    292\n",
       "                         297          female    297\n",
       "                         300          female    300\n",
       "Name: total_score, Length: 491, dtype: int64"
      ]
     },
     "execution_count": 133,
     "metadata": {},
     "output_type": "execute_result"
    }
   ],
   "source": [
    "df3"
   ]
  },
  {
   "cell_type": "code",
   "execution_count": 117,
   "metadata": {},
   "outputs": [
    {
     "data": {
      "text/plain": [
       "203.312"
      ]
     },
     "execution_count": 117,
     "metadata": {},
     "output_type": "execute_result"
    }
   ],
   "source": [
    "df[\"total_score\"].mean(axis = 0)"
   ]
  },
  {
   "cell_type": "code",
   "execution_count": 114,
   "metadata": {},
   "outputs": [
    {
     "data": {
      "text/plain": [
       "test preparation course  total_score  gender\n",
       "completed                103          female    1\n",
       "                         113          female    1\n",
       "                         119          male      1\n",
       "                         123          female    1\n",
       "                         127          female    1\n",
       "                                               ..\n",
       "none                     289          female    2\n",
       "                         290          female    1\n",
       "                         292          female    1\n",
       "                         297          female    1\n",
       "                         300          female    2\n",
       "Name: total_score, Length: 491, dtype: int64"
      ]
     },
     "execution_count": 114,
     "metadata": {},
     "output_type": "execute_result"
    }
   ],
   "source": [
    "df2"
   ]
  },
  {
   "cell_type": "code",
   "execution_count": null,
   "metadata": {},
   "outputs": [],
   "source": []
  }
 ],
 "metadata": {
  "kernelspec": {
   "display_name": "Python 3",
   "language": "python",
   "name": "python3"
  },
  "language_info": {
   "codemirror_mode": {
    "name": "ipython",
    "version": 3
   },
   "file_extension": ".py",
   "mimetype": "text/x-python",
   "name": "python",
   "nbconvert_exporter": "python",
   "pygments_lexer": "ipython3",
   "version": "3.8.5"
  }
 },
 "nbformat": 4,
 "nbformat_minor": 4
}
