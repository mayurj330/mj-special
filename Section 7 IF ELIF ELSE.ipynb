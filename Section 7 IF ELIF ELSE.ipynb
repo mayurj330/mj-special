{
 "cells": [
  {
   "cell_type": "code",
   "execution_count": 4,
   "metadata": {},
   "outputs": [
    {
     "name": "stdout",
     "output_type": "stream",
     "text": [
      "get some slips\n"
     ]
    }
   ],
   "source": [
    "if True:\n",
    "    print (\"get some slips\")"
   ]
  },
  {
   "cell_type": "code",
   "execution_count": 5,
   "metadata": {},
   "outputs": [],
   "source": [
    "if False:\n",
    "    print (\"get some slips\")"
   ]
  },
  {
   "cell_type": "code",
   "execution_count": 6,
   "metadata": {},
   "outputs": [
    {
     "name": "stdout",
     "output_type": "stream",
     "text": [
      "get somw sleep\n"
     ]
    }
   ],
   "source": [
    "if 5>2:\n",
    "    print(\"get somw sleep\")"
   ]
  },
  {
   "cell_type": "code",
   "execution_count": null,
   "metadata": {},
   "outputs": [],
   "source": [
    "if 1>2:\n",
    "    print(\"get some sleep\")"
   ]
  },
  {
   "cell_type": "code",
   "execution_count": null,
   "metadata": {},
   "outputs": [],
   "source": [
    "tired = False\n",
    "if tired:\n",
    "    print(\"get some sleep\")\n",
    "else:\n",
    "    print(\"not get sleep\")"
   ]
  },
  {
   "cell_type": "code",
   "execution_count": 14,
   "metadata": {},
   "outputs": [
    {
     "name": "stdout",
     "output_type": "stream",
     "text": [
      "get somw sleep\n"
     ]
    }
   ],
   "source": [
    "tired = True\n",
    "if tired:\n",
    "    print(\"get somw sleep\")\n",
    "else:\n",
    "    print(\"not get sleep\")"
   ]
  },
  {
   "cell_type": "code",
   "execution_count": 15,
   "metadata": {},
   "outputs": [
    {
     "name": "stdout",
     "output_type": "stream",
     "text": [
      "Are you tired?True or False.True\n",
      "get somw sleep\n"
     ]
    }
   ],
   "source": [
    "tired = input(\"Are you tired?True or False.\")\n",
    "if tired:\n",
    "    print(\"get somw sleep\")\n",
    "else:\n",
    "    print(\"not get sleep\")"
   ]
  },
  {
   "cell_type": "code",
   "execution_count": null,
   "metadata": {},
   "outputs": [],
   "source": [
    "tired = input(\"Are you tired? True or False.\")\n",
    "if tired:\n",
    "    print(\"get somw sleep\")\n",
    "else:\n",
    "    print(\"not get sleep\")"
   ]
  },
  {
   "cell_type": "code",
   "execution_count": null,
   "metadata": {},
   "outputs": [],
   "source": [
    "tired = input(\"Are you tired? True or False.\")\n",
    "if tired:\n",
    "    print(\"get somw sleep\")\n",
    "else:\n",
    "    print(\"not get sleep\")"
   ]
  },
  {
   "cell_type": "code",
   "execution_count": null,
   "metadata": {},
   "outputs": [],
   "source": [
    "tired = input(\"Are you tired? True or False.\")\n",
    "if tired in(\"True\",\"true\",\"t\",\"T\"):\n",
    "    print(\"get somw sleep\")\n",
    "else:\n",
    "    print(\"not get sleep\")"
   ]
  },
  {
   "cell_type": "code",
   "execution_count": null,
   "metadata": {},
   "outputs": [],
   "source": []
  }
 ],
 "metadata": {
  "kernelspec": {
   "display_name": "Python 3",
   "language": "python",
   "name": "python3"
  },
  "language_info": {
   "codemirror_mode": {
    "name": "ipython",
    "version": 3
   },
   "file_extension": ".py",
   "mimetype": "text/x-python",
   "name": "python",
   "nbconvert_exporter": "python",
   "pygments_lexer": "ipython3",
   "version": "3.6.11"
  }
 },
 "nbformat": 4,
 "nbformat_minor": 2
}
