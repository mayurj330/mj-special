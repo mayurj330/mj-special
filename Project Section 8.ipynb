{
 "cells": [
  {
   "cell_type": "code",
   "execution_count": 34,
   "metadata": {},
   "outputs": [
    {
     "name": "stdout",
     "output_type": "stream",
     "text": [
      "greateris 11\n",
      "greateris 12\n",
      "greateris 13\n",
      "greateris 14\n",
      "greateris 15\n",
      "greateris 16\n",
      "greateris 17\n",
      "greateris 18\n",
      "greateris 19\n"
     ]
    }
   ],
   "source": [
    "input = range (0,20)\n",
    "for x in input:\n",
    "    if x >10:\n",
    "        print(\"greateris {}\".format(x))\n",
    "        continue\n"
   ]
  },
  {
   "cell_type": "code",
   "execution_count": 32,
   "metadata": {},
   "outputs": [
    {
     "name": "stdout",
     "output_type": "stream",
     "text": [
      "smaller no is0\n",
      "smaller no is1\n",
      "smaller no is2\n",
      "smaller no is3\n",
      "smaller no is4\n",
      "smaller no is5\n",
      "smaller no is6\n",
      "smaller no is7\n",
      "smaller no is8\n",
      "smaller no is9\n"
     ]
    }
   ],
   "source": [
    "input = range (0,25)\n",
    "for x in input:\n",
    "    if x <10:\n",
    "        print(\"smaller no is{}\".format(x))"
   ]
  },
  {
   "cell_type": "code",
   "execution_count": null,
   "metadata": {},
   "outputs": [],
   "source": []
  }
 ],
 "metadata": {
  "kernelspec": {
   "display_name": "Python 3",
   "language": "python",
   "name": "python3"
  },
  "language_info": {
   "codemirror_mode": {
    "name": "ipython",
    "version": 3
   },
   "file_extension": ".py",
   "mimetype": "text/x-python",
   "name": "python",
   "nbconvert_exporter": "python",
   "pygments_lexer": "ipython3",
   "version": "3.6.11"
  }
 },
 "nbformat": 4,
 "nbformat_minor": 4
}
